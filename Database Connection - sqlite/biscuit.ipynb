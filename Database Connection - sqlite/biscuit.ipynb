{
 "cells": [
  {
   "cell_type": "markdown",
   "metadata": {},
   "source": [
    "## ================ from PAD to SAD - secondary averaging ==============="
   ]
  },
  {
   "cell_type": "code",
   "execution_count": 178,
   "metadata": {},
   "outputs": [
    {
     "name": "stdout",
     "output_type": "stream",
     "text": [
      "\n",
      " -- second averaging process started --\n",
      "source connection... [\u001b[32mOK\u001b[0m]\n"
     ]
    }
   ],
   "source": [
    "import sqlite3\n",
    "import pandas as pd\n",
    "import os.path\n",
    "import numpy as np\n",
    "import statistics as st\n",
    "from colorama import Fore, Style\n",
    "\n",
    "#Connection to the DB\n",
    "try:\n",
    "    # Make sure to find the file.db in the script directory\n",
    "    BASE_DIR = os.path.dirname(os.path.abspath('biscuit.ipynb'))\n",
    "    db_path = os.path.join(BASE_DIR, \"substrates.db\")\n",
    "    conn = sqlite3.connect(db_path)\n",
    "    c = conn.cursor()\n",
    "    print('\\n -- second averaging process started --')\n",
    "    print(f'source connection... [{Fore.GREEN}OK{Style.RESET_ALL}]')\n",
    "\n",
    "except sqlite3.Error as error:\n",
    "    print(\"Failed to read data from sqlite table\", error)\n",
    "    print(f'source connection... [{Fore.RED}DENIED{Style.RESET_ALL}]')"
   ]
  },
  {
   "cell_type": "code",
   "execution_count": 179,
   "metadata": {},
   "outputs": [
    {
     "name": "stdout",
     "output_type": "stream",
     "text": [
      "retrieving data... [\u001b[32mOK\u001b[0m]\n"
     ]
    }
   ],
   "source": [
    "try:\n",
    "    PAD           = pd.read_sql_query('SELECT * FROM PAD', conn, index_col='index')\n",
    "    Manure_PAD    = pd.read_sql_query('SELECT * FROM PAD WHERE \"Category\" = \"Manure\"',             conn, index_col='index')\n",
    "    AgriWaste_PAD = pd.read_sql_query('SELECT * FROM PAD WHERE \"Category\" = \"Agricultural waste\"', conn, index_col='index')\n",
    "    OrgWaste_PAD  = pd.read_sql_query('SELECT * FROM PAD WHERE \"Category\" = \"Organic waste\"',      conn, index_col='index')\n",
    "    Sludges_PAD   = pd.read_sql_query('SELECT * FROM PAD WHERE \"Category\" = \"Sludges\"',            conn, index_col='index')\n",
    "    print(f'retrieving data... [{Fore.GREEN}OK{Style.RESET_ALL}]')\n",
    "\n",
    "except: print(f'retrieving data... [{Fore.RED}DENIED{Style.RESET_ALL}]')\n"
   ]
  },
  {
   "cell_type": "code",
   "execution_count": 180,
   "metadata": {},
   "outputs": [
    {
     "name": "stdout",
     "output_type": "stream",
     "text": [
      "categorization... [\u001b[32mOK\u001b[0m]\n"
     ]
    }
   ],
   "source": [
    "cols = list(PAD)\n",
    "try:\n",
    "    Manure_SAD    = {str(cols[i]): st.mean(Manure_PAD[cols[i]].tolist())    for i in range (2, len(cols))}\n",
    "    AgriWaste_SAD = {str(cols[i]): st.mean(AgriWaste_PAD[cols[i]].tolist()) for i in range (2, len(cols))}\n",
    "    OrgWaste_SAD  = {str(cols[i]): st.mean(OrgWaste_PAD[cols[i]].tolist())  for i in range (2, len(cols))}\n",
    "    Sludges_SAD   = {str(cols[i]): st.mean(Sludges_PAD[cols[i]].tolist())   for i in range (2, len(cols))}\n",
    "    print(f'categorization... [{Fore.GREEN}OK{Style.RESET_ALL}]')\n",
    "\n",
    "except: print(f'categorization... [{Fore.RED}DENIED{Style.RESET_ALL}]')"
   ]
  },
  {
   "cell_type": "code",
   "execution_count": 181,
   "metadata": {},
   "outputs": [
    {
     "name": "stdout",
     "output_type": "stream",
     "text": [
      "database generation... [\u001b[32mOK\u001b[0m]\n"
     ]
    }
   ],
   "source": [
    "try:\n",
    "    Manure     = pd.DataFrame(Manure_SAD,    index=[0])\n",
    "    AgriWaste  = pd.DataFrame(AgriWaste_SAD, index=[0])\n",
    "    OrgWaste   = pd.DataFrame(OrgWaste_SAD,  index=[0])\n",
    "    Sludges    = pd.DataFrame(Sludges_SAD,   index=[0])\n",
    "    Manure.insert(   0, 'Category', 'Manure')\n",
    "    AgriWaste.insert(0, 'Category', 'Agricultural waste')\n",
    "    OrgWaste.insert( 0, 'Category', 'Organic waste')\n",
    "    Sludges.insert(  0, 'Category', 'Sludges')\n",
    "    print(f'database generation... [{Fore.GREEN}OK{Style.RESET_ALL}]')\n",
    "\n",
    "except: print(f'database generation... [{Fore.RED}DENIED{Style.RESET_ALL}]')"
   ]
  },
  {
   "cell_type": "code",
   "execution_count": 182,
   "metadata": {},
   "outputs": [
    {
     "name": "stdout",
     "output_type": "stream",
     "text": [
      "concatenation information... [\u001b[32mOK\u001b[0m]\n"
     ]
    }
   ],
   "source": [
    "try:\n",
    "    SAD = pd.concat([Manure, AgriWaste, OrgWaste, Sludges], ignore_index=True)\n",
    "    print(f'concatenation information... [{Fore.GREEN}OK{Style.RESET_ALL}]')\n",
    "\n",
    "except: print(f'concatenation information... [{Fore.RED}DENIED{Style.RESET_ALL}]')"
   ]
  },
  {
   "cell_type": "code",
   "execution_count": 183,
   "metadata": {},
   "outputs": [
    {
     "name": "stdout",
     "output_type": "stream",
     "text": [
      "update \u001b[32msuccessful\u001b[0m!\n",
      "database upload... [\u001b[32mOK\u001b[0m]\n"
     ]
    }
   ],
   "source": [
    "try:\n",
    "    c.execute('DROP TABLE SAD;')\n",
    "    c.execute(''' SELECT count(name) FROM sqlite_master WHERE type='table' AND name='SAD' ''')\n",
    "    if c.fetchone()[0]==1:\n",
    "        print(f'SAD table exists, upload {Fore.RED}passed{Style.RESET_ALL}')\n",
    "    else:\n",
    "        SAD.to_sql('SAD', conn)\n",
    "        print(f'update {Fore.GREEN}successful{Style.RESET_ALL}!')\n",
    "        print(f'database upload... [{Fore.GREEN}OK{Style.RESET_ALL}]')\n",
    "\n",
    "except: print(f'database upload... [{Fore.RED}DENIED{Style.RESET_ALL}]')"
   ]
  },
  {
   "cell_type": "markdown",
   "metadata": {},
   "source": [
    "## ========= from Complete Database (ComDB) to PAD - first averaging ========="
   ]
  },
  {
   "cell_type": "code",
   "execution_count": 184,
   "metadata": {},
   "outputs": [
    {
     "name": "stdout",
     "output_type": "stream",
     "text": [
      "\n",
      " -- primary averaging process started --\n",
      "source connection... [\u001b[32mOK\u001b[0m]\n"
     ]
    }
   ],
   "source": [
    "#Connection to the DB\n",
    "try:\n",
    "    # Make sure to find the file.db in the script directory\n",
    "    BASE_DIR = os.path.dirname(os.path.abspath('biscuit.ipynb')) \n",
    "    db_path = os.path.join(BASE_DIR, \"substrates.db\")\n",
    "    conn = sqlite3.connect(db_path)\n",
    "    c = conn.cursor()\n",
    "    print('\\n -- primary averaging process started --')\n",
    "    print(f'source connection... [{Fore.GREEN}OK{Style.RESET_ALL}]')\n",
    "\n",
    "except sqlite3.Error as error:\n",
    "    print(\"Failed to read data from sqlite table\", error)\n",
    "    print(f'source connection... [{Fore.RED}DENIED{Style.RESET_ALL}]')"
   ]
  },
  {
   "cell_type": "code",
   "execution_count": 185,
   "metadata": {},
   "outputs": [
    {
     "name": "stdout",
     "output_type": "stream",
     "text": [
      "retrieving data... [\u001b[32mOK\u001b[0m]\n"
     ]
    }
   ],
   "source": [
    "try:\n",
    "    ComDB = pd.read_sql_query('SELECT * FROM ComDB', conn, index_col='index')\n",
    "    print(f'retrieving data... [{Fore.GREEN}OK{Style.RESET_ALL}]')\n",
    "\n",
    "except: print(f'retrieving data... [{Fore.RED}DENIED{Style.RESET_ALL}]')"
   ]
  },
  {
   "cell_type": "code",
   "execution_count": 186,
   "metadata": {},
   "outputs": [
    {
     "name": "stdout",
     "output_type": "stream",
     "text": [
      "categorization... [\u001b[32mOK\u001b[0m]\n"
     ]
    }
   ],
   "source": [
    "try:\n",
    "    Dairy_Manure_ComDB    = pd.read_sql_query('SELECT * FROM ComDB WHERE \"Substrate\" = \"Dairy manure\"',                 conn, index_col='index')\n",
    "    Goat_Manure_ComDB     = pd.read_sql_query('SELECT * FROM ComDB WHERE \"Substrate\" = \"Goat manure\"',                  conn, index_col='index')\n",
    "    Chicken_Manure_ComDB  = pd.read_sql_query('SELECT * FROM ComDB WHERE \"Substrate\" = \"Chicken manure\"',               conn, index_col='index')\n",
    "    Sheep_Manure_ComDB    = pd.read_sql_query('SELECT * FROM ComDB WHERE \"Substrate\" = \"Sheep manure\"',                 conn, index_col='index')\n",
    "    Pig_Manure_ComDB      = pd.read_sql_query('SELECT * FROM ComDB WHERE \"Substrate\" = \"Pig manure\"',                   conn, index_col='index')\n",
    "    Sow_Manure_ComDB      = pd.read_sql_query('SELECT * FROM ComDB WHERE \"Substrate\" = \"Sow manure\"',                   conn, index_col='index')\n",
    "    Chicken_Litter_ComDB  = pd.read_sql_query('SELECT * FROM ComDB WHERE \"Substrate\" = \"Chicken litter\"',               conn, index_col='index')\n",
    "    Straw_ComDB           = pd.read_sql_query('SELECT * FROM ComDB WHERE \"Substrate\" = \"Straw\"',                        conn, index_col='index')\n",
    "    Rice_Husk_ComDB       = pd.read_sql_query('SELECT * FROM ComDB WHERE \"Substrate\" = \"Rice husk\"',                    conn, index_col='index')\n",
    "    Sugar_Beet_ComDB      = pd.read_sql_query('SELECT * FROM ComDB WHERE \"Substrate\" = \"Sugar Beet Byproducts\"',        conn, index_col='index')\n",
    "    Dry_Grass_ComDB       = pd.read_sql_query('SELECT * FROM ComDB WHERE \"Substrate\" = \"Dry grass \"',                   conn, index_col='index')\n",
    "    Maize_ComDB           = pd.read_sql_query('SELECT * FROM ComDB WHERE \"Substrate\" = \"Maize Waste\"',                  conn, index_col='index')\n",
    "    Potato_Waste_ComDB    = pd.read_sql_query('SELECT * FROM ComDB WHERE \"Substrate\" = \"Potato Waste\"',                 conn, index_col='index')\n",
    "    Yard_Waste_ComDB      = pd.read_sql_query('SELECT * FROM ComDB WHERE \"Substrate\" = \"Yard waste\"',                   conn, index_col='index')\n",
    "    Bamboo_ComDB          = pd.read_sql_query('SELECT * FROM ComDB WHERE \"Substrate\" = \"Bamboo\"',                       conn, index_col='index')\n",
    "    Food_Waste_ComDB      = pd.read_sql_query('SELECT * FROM ComDB WHERE \"Substrate\" = \"Food waste\"',                   conn, index_col='index')\n",
    "    Fruit_Veggie_ComDB    = pd.read_sql_query('SELECT * FROM ComDB WHERE \"Substrate\" = \"Fruit and veg food waste\"',     conn, index_col='index')\n",
    "    OFMSW_ComDB           = pd.read_sql_query('SELECT * FROM ComDB WHERE \"Substrate\" = \"OFMSW\"',                        conn, index_col='index')\n",
    "    Fish_Waste_ComDB      = pd.read_sql_query('SELECT * FROM ComDB WHERE \"Substrate\" = \"Fish waste\"',                   conn, index_col='index')\n",
    "    Slaughter_Res_ComDB   = pd.read_sql_query('SELECT * FROM ComDB WHERE \"Substrate\" = \"Slaughter residue\"',            conn, index_col='index')\n",
    "    Vinegar_Res_ComDB     = pd.read_sql_query('SELECT * FROM ComDB WHERE \"Substrate\" = \"Vinegar residue\"',              conn, index_col='index')\n",
    "    Precooked_Waste_ComDB = pd.read_sql_query('SELECT * FROM ComDB WHERE \"Substrate\" = \"Precooked carbs-based waste \"', conn, index_col='index')\n",
    "    Exhaust_Oil_ComDB     = pd.read_sql_query('SELECT * FROM ComDB WHERE \"Substrate\" = \"Exhaust kitchen oil\"',          conn, index_col='index')\n",
    "    Sewage_ComDB          = pd.read_sql_query('SELECT * FROM ComDB WHERE \"Substrate\" = \"Sewage sludge\"',                conn, index_col='index')\n",
    "    Food_Ind_ComDB        = pd.read_sql_query('SELECT * FROM ComDB WHERE \"Substrate\" = \"Food industry sludges\"',        conn, index_col='index')\n",
    "    print(f'categorization... [{Fore.GREEN}OK{Style.RESET_ALL}]')\n",
    "\n",
    "except: print(f'categorization... [{Fore.RED}DENIED{Style.RESET_ALL}]')"
   ]
  },
  {
   "cell_type": "code",
   "execution_count": 187,
   "metadata": {},
   "outputs": [
    {
     "name": "stdout",
     "output_type": "stream",
     "text": [
      "data extraction... [\u001b[32mOK\u001b[0m]\n"
     ]
    }
   ],
   "source": [
    "cols = list(ComDB)\n",
    "\n",
    "try:\n",
    "    Dairy_Manure_ComDB    = Dairy_Manure_ComDB.drop(   [cols[0], cols[1]], axis=1).T.to_numpy()\n",
    "    Goat_Manure_ComDB     = Goat_Manure_ComDB.drop(    [cols[0], cols[1]], axis=1).T.to_numpy()\n",
    "    Chicken_Manure_ComDB  = Chicken_Manure_ComDB.drop( [cols[0], cols[1]], axis=1).T.to_numpy()\n",
    "    Sheep_Manure_ComDB    = Sheep_Manure_ComDB.drop(   [cols[0], cols[1]], axis=1).T.to_numpy()\n",
    "    Pig_Manure_ComDB      = Pig_Manure_ComDB.drop(     [cols[0], cols[1]], axis=1).T.to_numpy()\n",
    "    Sow_Manure_ComDB      = Sow_Manure_ComDB.drop(     [cols[0], cols[1]], axis=1).T.to_numpy()\n",
    "    Chicken_Litter_ComDB  = Chicken_Litter_ComDB.drop( [cols[0], cols[1]], axis=1).T.to_numpy()\n",
    "    Straw_ComDB           = Straw_ComDB.drop(          [cols[0], cols[1]], axis=1).T.to_numpy()\n",
    "    Rice_Husk_ComDB       = Rice_Husk_ComDB.drop(      [cols[0], cols[1]], axis=1).T.to_numpy()\n",
    "    Sugar_Beet_ComDB      = Sugar_Beet_ComDB.drop(     [cols[0], cols[1]], axis=1).T.to_numpy()\n",
    "    Dry_Grass_ComDB       = Dry_Grass_ComDB.drop(      [cols[0], cols[1]], axis=1).T.to_numpy()\n",
    "    Maize_ComDB           = Maize_ComDB.drop(          [cols[0], cols[1]], axis=1).T.to_numpy()\n",
    "    Potato_Waste_ComDB    = Potato_Waste_ComDB.drop(   [cols[0], cols[1]], axis=1).T.to_numpy()\n",
    "    Yard_Waste_ComDB      = Yard_Waste_ComDB.drop(     [cols[0], cols[1]], axis=1).T.to_numpy()\n",
    "    Bamboo_ComDB          = Bamboo_ComDB.drop(         [cols[0], cols[1]], axis=1).T.to_numpy()\n",
    "    Food_Waste_ComDB      = Food_Waste_ComDB.drop(     [cols[0], cols[1]], axis=1).T.to_numpy()\n",
    "    Fruit_Veggie_ComDB    = Fruit_Veggie_ComDB.drop(   [cols[0], cols[1]], axis=1).T.to_numpy()\n",
    "    OFMSW_ComDB           = OFMSW_ComDB.drop(          [cols[0], cols[1]], axis=1).T.to_numpy()\n",
    "    Fish_Waste_ComDB      = Fish_Waste_ComDB.drop(     [cols[0], cols[1]], axis=1).T.to_numpy()\n",
    "    Slaughter_Res_ComDB   = Slaughter_Res_ComDB.drop(  [cols[0], cols[1]], axis=1).T.to_numpy()\n",
    "    Vinegar_Res_ComDB     = Vinegar_Res_ComDB.drop(    [cols[0], cols[1]], axis=1).T.to_numpy()\n",
    "    Precooked_Waste_ComDB = Precooked_Waste_ComDB.drop([cols[0], cols[1]], axis=1).T.to_numpy()\n",
    "    Exhaust_Oil_ComDB     = Exhaust_Oil_ComDB.drop(    [cols[0], cols[1]], axis=1).T.to_numpy()\n",
    "    Sewage_ComDB          = Sewage_ComDB.drop(         [cols[0], cols[1]], axis=1).T.to_numpy()\n",
    "    Food_Ind_ComDB        = Food_Ind_ComDB.drop(       [cols[0], cols[1]], axis=1).T.to_numpy()\n",
    "    print(f'data extraction... [{Fore.GREEN}OK{Style.RESET_ALL}]')\n",
    "    \n",
    "except: print(f'data extraction... [{Fore.RED}DENIED{Style.RESET_ALL}]')"
   ]
  },
  {
   "cell_type": "code",
   "execution_count": 188,
   "metadata": {},
   "outputs": [
    {
     "name": "stdout",
     "output_type": "stream",
     "text": [
      "category averaging... [\u001b[32mOK\u001b[0m]\n"
     ]
    }
   ],
   "source": [
    "cols = cols[2:]\n",
    "try:\n",
    "    Dairy_Manure    = {str(cols[i]): np.nanmean(Dairy_Manure_ComDB[i],    dtype='float32') for i in range(0, len(cols))}\n",
    "    Goat_Manure     = {str(cols[i]): np.nanmean(Goat_Manure_ComDB[i],     dtype='float32') for i in range(0, len(cols))}\n",
    "    Chicken_Manure  = {str(cols[i]): np.nanmean(Chicken_Manure_ComDB[i],  dtype='float32') for i in range(0, len(cols))}\n",
    "    Sheep_Manure    = {str(cols[i]): np.nanmean(Sheep_Manure_ComDB[i],    dtype='float32') for i in range(0, len(cols))}\n",
    "    Pig_Manure      = {str(cols[i]): np.nanmean(Pig_Manure_ComDB[i],      dtype='float32') for i in range(0, len(cols))}\n",
    "    Sow_Manure      = {str(cols[i]): np.nanmean(Sow_Manure_ComDB[i],      dtype='float32') for i in range(0, len(cols))}\n",
    "    Chicken_Litter  = {str(cols[i]): np.nanmean(Chicken_Litter_ComDB[i],  dtype='float32') for i in range(0, len(cols))}\n",
    "    Straw           = {str(cols[i]): np.nanmean(Straw_ComDB[i],           dtype='float32') for i in range(0, len(cols))}\n",
    "    Rice_Husk       = {str(cols[i]): np.nanmean(Rice_Husk_ComDB[i],       dtype='float32') for i in range(0, len(cols))}\n",
    "    Sugar_Beet      = {str(cols[i]): np.nanmean(Sugar_Beet_ComDB[i],      dtype='float32') for i in range(0, len(cols))}\n",
    "    Dry_Grass       = {str(cols[i]): np.nanmean(Dry_Grass_ComDB[i],       dtype='float32') for i in range(0, len(cols))}\n",
    "    Maize           = {str(cols[i]): np.nanmean(Maize_ComDB[i],           dtype='float32') for i in range(0, len(cols))}\n",
    "    Potato_Waste    = {str(cols[i]): np.nanmean(Potato_Waste_ComDB[i],    dtype='float32') for i in range(0, len(cols))}\n",
    "    Yard_Waste      = {str(cols[i]): np.nanmean(Yard_Waste_ComDB[i],      dtype='float32') for i in range(0, len(cols))}\n",
    "    Bamboo          = {str(cols[i]): np.nanmean(Bamboo_ComDB[i],          dtype='float32') for i in range(0, len(cols))}\n",
    "    Food_Waste      = {str(cols[i]): np.nanmean(Food_Waste_ComDB[i],      dtype='float32') for i in range(0, len(cols))}\n",
    "    Fruit_Veggie    = {str(cols[i]): np.nanmean(Fruit_Veggie_ComDB[i],    dtype='float32') for i in range(0, len(cols))}\n",
    "    OFMSW           = {str(cols[i]): np.nanmean(OFMSW_ComDB[i],           dtype='float32') for i in range(0, len(cols))}\n",
    "    Fish_Waste      = {str(cols[i]): np.nanmean(Fish_Waste_ComDB[i],      dtype='float32') for i in range(0, len(cols))}\n",
    "    Slaughter_Res   = {str(cols[i]): np.nanmean(Slaughter_Res_ComDB[i],   dtype='float32') for i in range(0, len(cols))}\n",
    "    Vinegar_Res     = {str(cols[i]): np.nanmean(Vinegar_Res_ComDB[i],     dtype='float32') for i in range(0, len(cols))}\n",
    "    Precooked_Waste = {str(cols[i]): np.nanmean(Precooked_Waste_ComDB[i], dtype='float32') for i in range(0, len(cols))}\n",
    "    Exhaust_Oil     = {str(cols[i]): np.nanmean(Exhaust_Oil_ComDB[i],     dtype='float32') for i in range(0, len(cols))}\n",
    "    Sewage          = {str(cols[i]): np.nanmean(Sewage_ComDB[i],          dtype='float32') for i in range(0, len(cols))}\n",
    "    Food_Ind        = {str(cols[i]): np.nanmean(Food_Ind_ComDB[i],        dtype='float32') for i in range(0, len(cols))}\n",
    "    print(f'category averaging... [{Fore.GREEN}OK{Style.RESET_ALL}]')\n",
    "\n",
    "except: print(f'category averaging... [{Fore.RED}DENIED{Style.RESET_ALL}]')"
   ]
  },
  {
   "cell_type": "code",
   "execution_count": 189,
   "metadata": {},
   "outputs": [
    {
     "name": "stdout",
     "output_type": "stream",
     "text": [
      "database generation... [\u001b[32mOK\u001b[0m]\n"
     ]
    }
   ],
   "source": [
    "try:\n",
    "    Dairy_Manure    = pd.DataFrame(Dairy_Manure   , index=[0])\n",
    "    Goat_Manure     = pd.DataFrame(Goat_Manure    , index=[0])\n",
    "    Chicken_Manure  = pd.DataFrame(Chicken_Manure , index=[0])\n",
    "    Sheep_Manure    = pd.DataFrame(Sheep_Manure   , index=[0])\n",
    "    Pig_Manure      = pd.DataFrame(Pig_Manure     , index=[0])\n",
    "    Sow_Manure      = pd.DataFrame(Sow_Manure     , index=[0])\n",
    "    Chicken_Litter  = pd.DataFrame(Chicken_Litter , index=[0])\n",
    "    Straw           = pd.DataFrame(Straw          , index=[0])\n",
    "    Rice_Husk       = pd.DataFrame(Rice_Husk      , index=[0])\n",
    "    Sugar_Beet      = pd.DataFrame(Sugar_Beet     , index=[0])\n",
    "    Dry_Grass       = pd.DataFrame(Dry_Grass      , index=[0])\n",
    "    Maize           = pd.DataFrame(Maize          , index=[0])\n",
    "    Potato_Waste    = pd.DataFrame(Potato_Waste   , index=[0])\n",
    "    Yard_Waste      = pd.DataFrame(Yard_Waste     , index=[0])\n",
    "    Bamboo          = pd.DataFrame(Bamboo         , index=[0])\n",
    "    Food_Waste      = pd.DataFrame(Food_Waste     , index=[0])\n",
    "    Fruit_Veggie    = pd.DataFrame(Fruit_Veggie   , index=[0])\n",
    "    OFMSW           = pd.DataFrame(OFMSW          , index=[0])\n",
    "    Fish_Waste      = pd.DataFrame(Fish_Waste     , index=[0])\n",
    "    Slaughter_Res   = pd.DataFrame(Slaughter_Res  , index=[0])\n",
    "    Vinegar_Res     = pd.DataFrame(Vinegar_Res    , index=[0])\n",
    "    Precooked_Waste = pd.DataFrame(Precooked_Waste, index=[0])\n",
    "    Exhaust_Oil     = pd.DataFrame(Exhaust_Oil    , index=[0])\n",
    "    Sewage          = pd.DataFrame(Sewage         , index=[0])\n",
    "    Food_Ind        = pd.DataFrame(Food_Ind       , index=[0])\n",
    "    Dairy_Manure.insert(   0, 'Category', 'Dairy_Manure   ')\n",
    "    Goat_Manure.insert(    0, 'Category', 'Goat_Manure    ')\n",
    "    Chicken_Manure.insert( 0, 'Category', 'Chicken_Manure ')\n",
    "    Sheep_Manure.insert(   0, 'Category', 'Sheep_Manure   ')\n",
    "    Pig_Manure.insert(     0, 'Category', 'Pig_Manure     ')\n",
    "    Sow_Manure.insert(     0, 'Category', 'Sow_Manure     ')\n",
    "    Chicken_Litter.insert( 0, 'Category', 'Chicken_Litter ')\n",
    "    Straw.insert(          0, 'Category', 'Straw          ')\n",
    "    Rice_Husk.insert(      0, 'Category', 'Rice_Husk      ')\n",
    "    Sugar_Beet.insert(     0, 'Category', 'Sugar_Beet     ')\n",
    "    Dry_Grass.insert(      0, 'Category', 'Dry_Grass      ')\n",
    "    Maize.insert(          0, 'Category', 'Maize          ')\n",
    "    Potato_Waste.insert(   0, 'Category', 'Potato_Waste   ')\n",
    "    Yard_Waste.insert(     0, 'Category', 'Yard_Waste     ')\n",
    "    Bamboo.insert(         0, 'Category', 'Bamboo         ')\n",
    "    Food_Waste.insert(     0, 'Category', 'Food_Waste     ')\n",
    "    Fruit_Veggie.insert(   0, 'Category', 'Fruit_Veggie   ')\n",
    "    OFMSW.insert(          0, 'Category', 'OFMSW          ')\n",
    "    Fish_Waste.insert(     0, 'Category', 'Fish_Waste     ')\n",
    "    Slaughter_Res.insert(  0, 'Category', 'Slaughter_Res  ')\n",
    "    Vinegar_Res.insert(    0, 'Category', 'Vinegar_Res    ')\n",
    "    Precooked_Waste.insert(0, 'Category', 'Precooked_Waste')\n",
    "    Exhaust_Oil.insert(    0, 'Category', 'Exhaust_Oil    ')\n",
    "    Sewage.insert(         0, 'Category', 'Sewage         ')\n",
    "    Food_Ind.insert(       0, 'Category', 'Food_Ind       ')\n",
    "    print(f'database generation... [{Fore.GREEN}OK{Style.RESET_ALL}]')\n",
    "\n",
    "except: print(f'database generation... [{Fore.RED}DENIED{Style.RESET_ALL}]')"
   ]
  },
  {
   "cell_type": "code",
   "execution_count": 190,
   "metadata": {},
   "outputs": [
    {
     "name": "stdout",
     "output_type": "stream",
     "text": [
      "concatenation information... [\u001b[32mOK\u001b[0m]\n"
     ]
    }
   ],
   "source": [
    "try:\n",
    "    PAD = pd.concat(\n",
    "        [ Dairy_Manure, Goat_Manure, Chicken_Manure, Sheep_Manure, Pig_Manure, Sow_Manure, Chicken_Litter, \\\n",
    "          Straw, Rice_Husk, Sugar_Beet, Dry_Grass, Maize, Potato_Waste, Yard_Waste, Bamboo, Food_Waste, \\\n",
    "          Fruit_Veggie, OFMSW, Fish_Waste, Slaughter_Res, Vinegar_Res, Precooked_Waste, Exhaust_Oil, Sewage, Food_Ind,\n",
    "        ],\n",
    "        ignore_index=True\n",
    "        )\n",
    "    print(f'concatenation information... [{Fore.GREEN}OK{Style.RESET_ALL}]')\n",
    "\n",
    "except: print(f'concatenation information... [{Fore.RED}DENIED{Style.RESET_ALL}]')"
   ]
  },
  {
   "cell_type": "code",
   "execution_count": 191,
   "metadata": {},
   "outputs": [
    {
     "name": "stdout",
     "output_type": "stream",
     "text": [
      "update \u001b[32msuccessful\u001b[0m!\n",
      "database upload... [\u001b[32mOK\u001b[0m]\n"
     ]
    }
   ],
   "source": [
    "try:\n",
    "    c.execute('DROP TABLE PAD;')\n",
    "    c.execute(''' SELECT count(name) FROM sqlite_master WHERE type='table' AND name='PAD' ''')\n",
    "    if c.fetchone()[0]==1:\n",
    "        print(f'PAD table exists, upload {Fore.RED}passed{Style.RESET_ALL}')\n",
    "    else:\n",
    "        PAD.to_sql('PAD', conn)\n",
    "        print(f'update {Fore.GREEN}successful{Style.RESET_ALL}!')\n",
    "        print(f'database upload... [{Fore.GREEN}OK{Style.RESET_ALL}]')\n",
    "\n",
    "except: print(f'database upload... [{Fore.RED}DENIED{Style.RESET_ALL}]')"
   ]
  }
 ],
 "metadata": {
  "kernelspec": {
   "display_name": "Python 3 (ipykernel)",
   "language": "python",
   "name": "python3"
  },
  "language_info": {
   "codemirror_mode": {
    "name": "ipython",
    "version": 3
   },
   "file_extension": ".py",
   "mimetype": "text/x-python",
   "name": "python",
   "nbconvert_exporter": "python",
   "pygments_lexer": "ipython3",
   "version": "3.9.15"
  },
  "orig_nbformat": 4,
  "vscode": {
   "interpreter": {
    "hash": "111c787157029d0c90e14ceb72ab83a8b3a03578807772f83ac1f5cb6f370400"
   }
  }
 },
 "nbformat": 4,
 "nbformat_minor": 2
}
